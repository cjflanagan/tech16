{
  "nbformat": 4,
  "nbformat_minor": 0,
  "metadata": {
    "colab": {
      "provenance": []
    },
    "kernelspec": {
      "name": "python3",
      "display_name": "Python 3"
    },
    "language_info": {
      "name": "python"
    }
  },
  "cells": [
    {
      "cell_type": "markdown",
      "source": [
        "# DSPy - Advanced Prompt Engineering\n",
        "\n",
        "In the following notebook, we'll explore an introduction to DSPy and what it can do in just a few lines of code!\n",
        "\n",
        "To begin, we'll grab the only (top level) dependency we'll need - DSPy!"
      ],
      "metadata": {
        "id": "lNF2FTJcYP7u"
      }
    },
    {
      "cell_type": "code",
      "execution_count": 1,
      "metadata": {
        "colab": {
          "base_uri": "https://localhost:8080/"
        },
        "id": "MeoJU4iE3AWt",
        "outputId": "58d5b2f3-8191-43ca-efab-07087bd0cf9e"
      },
      "outputs": [
        {
          "output_type": "stream",
          "name": "stdout",
          "text": [
            "Requirement already satisfied: pyarrow in /usr/local/lib/python3.10/dist-packages (16.1.0)\n",
            "Requirement already satisfied: numpy>=1.16.6 in /usr/local/lib/python3.10/dist-packages (from pyarrow) (1.25.2)\n"
          ]
        }
      ],
      "source": [
        "!pip install -qU dspy-ai\n",
        "!pip install --upgrade pyarrow"
      ]
    },
    {
      "cell_type": "markdown",
      "source": [
        "DSPy can leverage OpenAI's models under the hood, and still provide an advantage - in order to do so, however, we'll need to provide an OpenAI API Key!"
      ],
      "metadata": {
        "id": "PrDi65cdY0pa"
      }
    },
    {
      "cell_type": "code",
      "source": [
        "import os\n",
        "import getpass\n",
        "\n",
        "from google.colab import userdata\n",
        "api_key = userdata.get('open_ai_key')\n",
        "\n",
        "if not api_key:\n",
        "  api_key = getpass.getpass(\"Enter your OpenAI API Key: \")\n",
        "\n",
        "os.environ['OPENAI_API_KEY'] = api_key"
      ],
      "metadata": {
        "id": "8lPWT4vL8zFd"
      },
      "execution_count": 2,
      "outputs": []
    },
    {
      "cell_type": "markdown",
      "source": [
        "## Model\n",
        "\n",
        "Now we can setup our OpenAI language model - which we'll use through the remaining cells in the notebook."
      ],
      "metadata": {
        "id": "FW3W8ogDZJS_"
      }
    },
    {
      "cell_type": "code",
      "source": [
        "from dspy import OpenAI\n",
        "\n",
        "llm = OpenAI(model='gpt-3.5-turbo', api_key=api_key)"
      ],
      "metadata": {
        "id": "VJAy8_hw8rUu"
      },
      "execution_count": 4,
      "outputs": []
    },
    {
      "cell_type": "markdown",
      "source": [
        "Similar to other libraries, we can call the LLM directly with a string to get a response!"
      ],
      "metadata": {
        "id": "ONjD_6hKZPsD"
      }
    },
    {
      "cell_type": "code",
      "source": [
        "llm(\"What is the square root of pi?\")"
      ],
      "metadata": {
        "colab": {
          "base_uri": "https://localhost:8080/"
        },
        "id": "BlwRrI1UZOFc",
        "outputId": "d8f218d1-80ea-4406-ce3d-3236a7c984ae"
      },
      "execution_count": 5,
      "outputs": [
        {
          "output_type": "execute_result",
          "data": {
            "text/plain": [
              "['The square root of pi is approximately 1.77245385091.']"
            ]
          },
          "metadata": {},
          "execution_count": 5
        }
      ]
    },
    {
      "cell_type": "markdown",
      "source": [
        "We'll also set our `setting.configure` with our OpenAI model in the `lm` (Language Model) field for a default LM to use in case we don't specify which LM we'd like to use when calling our DSPy `Predictors`."
      ],
      "metadata": {
        "id": "oAO_nkG_ZVVV"
      }
    },
    {
      "cell_type": "code",
      "source": [
        "import dspy\n",
        "\n",
        "dspy.settings.configure(lm=llm)"
      ],
      "metadata": {
        "id": "feM8E46m9Gna"
      },
      "execution_count": 6,
      "outputs": []
    },
    {
      "cell_type": "markdown",
      "source": [
        "## Data\n",
        "\n",
        "We're going to be using a dataset that provides a number of example sentences, along with a rating that indicates their \"dopeness\" level."
      ],
      "metadata": {
        "id": "G5H-q4WdZhc3"
      }
    },
    {
      "cell_type": "markdown",
      "source": [
        "We have a total of 99 rows of data, and will be splitting that into a `trainset` and a `valset` - for training and evaluation."
      ],
      "metadata": {
        "id": "OMgZxUByaz68"
      }
    },
    {
      "cell_type": "code",
      "source": [
        "import pandas as pd\n",
        "\n",
        "dataset = pd.read_csv(\"https://raw.githubusercontent.com/cjflanagan/cs68/master/stock_data_nlp.csv\")\n",
        "# change sentiment from 1 to \"Positive\" and 0 to \"Negative\"\n",
        "# dataset['Sentiment'] = dataset['Sentiment'].replace([0, 1], ['Negative', 'Positive'])\n",
        "dataset = dataset.sample(frac=1)  # frac=1 shuffles all rows\n",
        "dataset.head()"
      ],
      "metadata": {
        "id": "YMBCVzwhDKJr",
        "colab": {
          "base_uri": "https://localhost:8080/",
          "height": 206
        },
        "outputId": "caa841c8-7ad5-4d7e-fb60-65de4a568ac1"
      },
      "execution_count": 7,
      "outputs": [
        {
          "output_type": "execute_result",
          "data": {
            "text/plain": [
              "                                                   Text  Sentiment\n",
              "4449  user: 5 Tech Stocks That Typically ally After ...          1\n",
              "5212  RT @djtgallagher: Samsung - like Micron and Nv...          1\n",
              "1890  CEN price action looking good going into earni...          1\n",
              "2391  Buying V on any and all pullbacks.  Doubled si...          1\n",
              "5320  Altria��������s fraught investment in e-cigare...          0"
            ],
            "text/html": [
              "\n",
              "  <div id=\"df-4cc5b7c8-7fdd-4c20-a2b9-ada540731006\" class=\"colab-df-container\">\n",
              "    <div>\n",
              "<style scoped>\n",
              "    .dataframe tbody tr th:only-of-type {\n",
              "        vertical-align: middle;\n",
              "    }\n",
              "\n",
              "    .dataframe tbody tr th {\n",
              "        vertical-align: top;\n",
              "    }\n",
              "\n",
              "    .dataframe thead th {\n",
              "        text-align: right;\n",
              "    }\n",
              "</style>\n",
              "<table border=\"1\" class=\"dataframe\">\n",
              "  <thead>\n",
              "    <tr style=\"text-align: right;\">\n",
              "      <th></th>\n",
              "      <th>Text</th>\n",
              "      <th>Sentiment</th>\n",
              "    </tr>\n",
              "  </thead>\n",
              "  <tbody>\n",
              "    <tr>\n",
              "      <th>4449</th>\n",
              "      <td>user: 5 Tech Stocks That Typically ally After ...</td>\n",
              "      <td>1</td>\n",
              "    </tr>\n",
              "    <tr>\n",
              "      <th>5212</th>\n",
              "      <td>RT @djtgallagher: Samsung - like Micron and Nv...</td>\n",
              "      <td>1</td>\n",
              "    </tr>\n",
              "    <tr>\n",
              "      <th>1890</th>\n",
              "      <td>CEN price action looking good going into earni...</td>\n",
              "      <td>1</td>\n",
              "    </tr>\n",
              "    <tr>\n",
              "      <th>2391</th>\n",
              "      <td>Buying V on any and all pullbacks.  Doubled si...</td>\n",
              "      <td>1</td>\n",
              "    </tr>\n",
              "    <tr>\n",
              "      <th>5320</th>\n",
              "      <td>Altria��������s fraught investment in e-cigare...</td>\n",
              "      <td>0</td>\n",
              "    </tr>\n",
              "  </tbody>\n",
              "</table>\n",
              "</div>\n",
              "    <div class=\"colab-df-buttons\">\n",
              "\n",
              "  <div class=\"colab-df-container\">\n",
              "    <button class=\"colab-df-convert\" onclick=\"convertToInteractive('df-4cc5b7c8-7fdd-4c20-a2b9-ada540731006')\"\n",
              "            title=\"Convert this dataframe to an interactive table.\"\n",
              "            style=\"display:none;\">\n",
              "\n",
              "  <svg xmlns=\"http://www.w3.org/2000/svg\" height=\"24px\" viewBox=\"0 -960 960 960\">\n",
              "    <path d=\"M120-120v-720h720v720H120Zm60-500h600v-160H180v160Zm220 220h160v-160H400v160Zm0 220h160v-160H400v160ZM180-400h160v-160H180v160Zm440 0h160v-160H620v160ZM180-180h160v-160H180v160Zm440 0h160v-160H620v160Z\"/>\n",
              "  </svg>\n",
              "    </button>\n",
              "\n",
              "  <style>\n",
              "    .colab-df-container {\n",
              "      display:flex;\n",
              "      gap: 12px;\n",
              "    }\n",
              "\n",
              "    .colab-df-convert {\n",
              "      background-color: #E8F0FE;\n",
              "      border: none;\n",
              "      border-radius: 50%;\n",
              "      cursor: pointer;\n",
              "      display: none;\n",
              "      fill: #1967D2;\n",
              "      height: 32px;\n",
              "      padding: 0 0 0 0;\n",
              "      width: 32px;\n",
              "    }\n",
              "\n",
              "    .colab-df-convert:hover {\n",
              "      background-color: #E2EBFA;\n",
              "      box-shadow: 0px 1px 2px rgba(60, 64, 67, 0.3), 0px 1px 3px 1px rgba(60, 64, 67, 0.15);\n",
              "      fill: #174EA6;\n",
              "    }\n",
              "\n",
              "    .colab-df-buttons div {\n",
              "      margin-bottom: 4px;\n",
              "    }\n",
              "\n",
              "    [theme=dark] .colab-df-convert {\n",
              "      background-color: #3B4455;\n",
              "      fill: #D2E3FC;\n",
              "    }\n",
              "\n",
              "    [theme=dark] .colab-df-convert:hover {\n",
              "      background-color: #434B5C;\n",
              "      box-shadow: 0px 1px 3px 1px rgba(0, 0, 0, 0.15);\n",
              "      filter: drop-shadow(0px 1px 2px rgba(0, 0, 0, 0.3));\n",
              "      fill: #FFFFFF;\n",
              "    }\n",
              "  </style>\n",
              "\n",
              "    <script>\n",
              "      const buttonEl =\n",
              "        document.querySelector('#df-4cc5b7c8-7fdd-4c20-a2b9-ada540731006 button.colab-df-convert');\n",
              "      buttonEl.style.display =\n",
              "        google.colab.kernel.accessAllowed ? 'block' : 'none';\n",
              "\n",
              "      async function convertToInteractive(key) {\n",
              "        const element = document.querySelector('#df-4cc5b7c8-7fdd-4c20-a2b9-ada540731006');\n",
              "        const dataTable =\n",
              "          await google.colab.kernel.invokeFunction('convertToInteractive',\n",
              "                                                    [key], {});\n",
              "        if (!dataTable) return;\n",
              "\n",
              "        const docLinkHtml = 'Like what you see? Visit the ' +\n",
              "          '<a target=\"_blank\" href=https://colab.research.google.com/notebooks/data_table.ipynb>data table notebook</a>'\n",
              "          + ' to learn more about interactive tables.';\n",
              "        element.innerHTML = '';\n",
              "        dataTable['output_type'] = 'display_data';\n",
              "        await google.colab.output.renderOutput(dataTable, element);\n",
              "        const docLink = document.createElement('div');\n",
              "        docLink.innerHTML = docLinkHtml;\n",
              "        element.appendChild(docLink);\n",
              "      }\n",
              "    </script>\n",
              "  </div>\n",
              "\n",
              "\n",
              "<div id=\"df-03f428ad-bf3c-4dfd-a1c1-7082ff9f345b\">\n",
              "  <button class=\"colab-df-quickchart\" onclick=\"quickchart('df-03f428ad-bf3c-4dfd-a1c1-7082ff9f345b')\"\n",
              "            title=\"Suggest charts\"\n",
              "            style=\"display:none;\">\n",
              "\n",
              "<svg xmlns=\"http://www.w3.org/2000/svg\" height=\"24px\"viewBox=\"0 0 24 24\"\n",
              "     width=\"24px\">\n",
              "    <g>\n",
              "        <path d=\"M19 3H5c-1.1 0-2 .9-2 2v14c0 1.1.9 2 2 2h14c1.1 0 2-.9 2-2V5c0-1.1-.9-2-2-2zM9 17H7v-7h2v7zm4 0h-2V7h2v10zm4 0h-2v-4h2v4z\"/>\n",
              "    </g>\n",
              "</svg>\n",
              "  </button>\n",
              "\n",
              "<style>\n",
              "  .colab-df-quickchart {\n",
              "      --bg-color: #E8F0FE;\n",
              "      --fill-color: #1967D2;\n",
              "      --hover-bg-color: #E2EBFA;\n",
              "      --hover-fill-color: #174EA6;\n",
              "      --disabled-fill-color: #AAA;\n",
              "      --disabled-bg-color: #DDD;\n",
              "  }\n",
              "\n",
              "  [theme=dark] .colab-df-quickchart {\n",
              "      --bg-color: #3B4455;\n",
              "      --fill-color: #D2E3FC;\n",
              "      --hover-bg-color: #434B5C;\n",
              "      --hover-fill-color: #FFFFFF;\n",
              "      --disabled-bg-color: #3B4455;\n",
              "      --disabled-fill-color: #666;\n",
              "  }\n",
              "\n",
              "  .colab-df-quickchart {\n",
              "    background-color: var(--bg-color);\n",
              "    border: none;\n",
              "    border-radius: 50%;\n",
              "    cursor: pointer;\n",
              "    display: none;\n",
              "    fill: var(--fill-color);\n",
              "    height: 32px;\n",
              "    padding: 0;\n",
              "    width: 32px;\n",
              "  }\n",
              "\n",
              "  .colab-df-quickchart:hover {\n",
              "    background-color: var(--hover-bg-color);\n",
              "    box-shadow: 0 1px 2px rgba(60, 64, 67, 0.3), 0 1px 3px 1px rgba(60, 64, 67, 0.15);\n",
              "    fill: var(--button-hover-fill-color);\n",
              "  }\n",
              "\n",
              "  .colab-df-quickchart-complete:disabled,\n",
              "  .colab-df-quickchart-complete:disabled:hover {\n",
              "    background-color: var(--disabled-bg-color);\n",
              "    fill: var(--disabled-fill-color);\n",
              "    box-shadow: none;\n",
              "  }\n",
              "\n",
              "  .colab-df-spinner {\n",
              "    border: 2px solid var(--fill-color);\n",
              "    border-color: transparent;\n",
              "    border-bottom-color: var(--fill-color);\n",
              "    animation:\n",
              "      spin 1s steps(1) infinite;\n",
              "  }\n",
              "\n",
              "  @keyframes spin {\n",
              "    0% {\n",
              "      border-color: transparent;\n",
              "      border-bottom-color: var(--fill-color);\n",
              "      border-left-color: var(--fill-color);\n",
              "    }\n",
              "    20% {\n",
              "      border-color: transparent;\n",
              "      border-left-color: var(--fill-color);\n",
              "      border-top-color: var(--fill-color);\n",
              "    }\n",
              "    30% {\n",
              "      border-color: transparent;\n",
              "      border-left-color: var(--fill-color);\n",
              "      border-top-color: var(--fill-color);\n",
              "      border-right-color: var(--fill-color);\n",
              "    }\n",
              "    40% {\n",
              "      border-color: transparent;\n",
              "      border-right-color: var(--fill-color);\n",
              "      border-top-color: var(--fill-color);\n",
              "    }\n",
              "    60% {\n",
              "      border-color: transparent;\n",
              "      border-right-color: var(--fill-color);\n",
              "    }\n",
              "    80% {\n",
              "      border-color: transparent;\n",
              "      border-right-color: var(--fill-color);\n",
              "      border-bottom-color: var(--fill-color);\n",
              "    }\n",
              "    90% {\n",
              "      border-color: transparent;\n",
              "      border-bottom-color: var(--fill-color);\n",
              "    }\n",
              "  }\n",
              "</style>\n",
              "\n",
              "  <script>\n",
              "    async function quickchart(key) {\n",
              "      const quickchartButtonEl =\n",
              "        document.querySelector('#' + key + ' button');\n",
              "      quickchartButtonEl.disabled = true;  // To prevent multiple clicks.\n",
              "      quickchartButtonEl.classList.add('colab-df-spinner');\n",
              "      try {\n",
              "        const charts = await google.colab.kernel.invokeFunction(\n",
              "            'suggestCharts', [key], {});\n",
              "      } catch (error) {\n",
              "        console.error('Error during call to suggestCharts:', error);\n",
              "      }\n",
              "      quickchartButtonEl.classList.remove('colab-df-spinner');\n",
              "      quickchartButtonEl.classList.add('colab-df-quickchart-complete');\n",
              "    }\n",
              "    (() => {\n",
              "      let quickchartButtonEl =\n",
              "        document.querySelector('#df-03f428ad-bf3c-4dfd-a1c1-7082ff9f345b button');\n",
              "      quickchartButtonEl.style.display =\n",
              "        google.colab.kernel.accessAllowed ? 'block' : 'none';\n",
              "    })();\n",
              "  </script>\n",
              "</div>\n",
              "\n",
              "    </div>\n",
              "  </div>\n"
            ],
            "application/vnd.google.colaboratory.intrinsic+json": {
              "type": "dataframe",
              "variable_name": "dataset",
              "summary": "{\n  \"name\": \"dataset\",\n  \"rows\": 5791,\n  \"fields\": [\n    {\n      \"column\": \"Text\",\n      \"properties\": {\n        \"dtype\": \"string\",\n        \"num_unique_values\": 5790,\n        \"samples\": [\n          \"RT @DrewFitzGerald: And then there were 3: AT&amp;T, Verizon and T-Mobile https://t.co/YbaAavirhx\",\n          \"ed Daily Triangle on HEO,....Cover Short Position,...Net Profit  76,560.00 (7.46%)  \",\n          \"VFC - we are short this one again - bulls need to hold the support it is in now or the break could be significant\"\n        ],\n        \"semantic_type\": \"\",\n        \"description\": \"\"\n      }\n    },\n    {\n      \"column\": \"Sentiment\",\n      \"properties\": {\n        \"dtype\": \"number\",\n        \"std\": 0,\n        \"min\": 0,\n        \"max\": 1,\n        \"num_unique_values\": 2,\n        \"samples\": [\n          0,\n          1\n        ],\n        \"semantic_type\": \"\",\n        \"description\": \"\"\n      }\n    }\n  ]\n}"
            }
          },
          "metadata": {},
          "execution_count": 7
        }
      ]
    },
    {
      "cell_type": "code",
      "source": [
        "dataset.info()"
      ],
      "metadata": {
        "id": "YNUjIUcK66ly"
      },
      "execution_count": null,
      "outputs": []
    },
    {
      "cell_type": "code",
      "source": [
        "dataset.to_csv(\"tweet_sentiment.csv\", index=False)"
      ],
      "metadata": {
        "id": "lW3c8wPZtwrt"
      },
      "execution_count": 8,
      "outputs": []
    },
    {
      "cell_type": "markdown",
      "source": [
        "Due to the nature of the dataset, we'll need to shuffle our dataset to ensure our labels are not clumped up, and our `valset` is remotely representative to our `trainset`."
      ],
      "metadata": {
        "id": "ZwyoqDkvcBxr"
      }
    },
    {
      "cell_type": "markdown",
      "source": [
        "We'll move our `Dataset` into the expected format in DSPy which is the [`Example`](https://dspy-docs.vercel.app/docs/deep-dive/data-handling/examples)!\n",
        "\n",
        "\n",
        "Our examples will have two keys:\n",
        "\n",
        "- `sentence`, our input sentence to be rated\n",
        "- `rating`, our rating label\n",
        "\n",
        "We'll specify our input as `sentence` to properly leverage the DSPy framework."
      ],
      "metadata": {
        "id": "nrr-xSbtcPBK"
      }
    },
    {
      "cell_type": "code",
      "source": [
        "from dspy import Example\n",
        "\n",
        "trainset = []\n",
        "\n",
        "# Iterate over rows in the DataFrame\n",
        "for index, row in dataset.iterrows():\n",
        "    trainset.append(Example(sentence=row[\"Text\"], rating=row[\"Sentiment\"]).with_inputs(\"sentence\"))\n",
        "\n",
        "len(trainset)"
      ],
      "metadata": {
        "id": "07ARkkb_CnBT",
        "colab": {
          "base_uri": "https://localhost:8080/"
        },
        "outputId": "5d0a7cd3-e7d6-4827-fc17-87d3d36ee75e"
      },
      "execution_count": 9,
      "outputs": [
        {
          "output_type": "execute_result",
          "data": {
            "text/plain": [
              "5791"
            ]
          },
          "metadata": {},
          "execution_count": 9
        }
      ]
    },
    {
      "cell_type": "code",
      "source": [
        "trainset[0:10]"
      ],
      "metadata": {
        "colab": {
          "base_uri": "https://localhost:8080/"
        },
        "id": "azyuE8cLoBNz",
        "outputId": "fa21a1b9-acb9-4951-ebc3-fe0372d14eeb"
      },
      "execution_count": 10,
      "outputs": [
        {
          "output_type": "execute_result",
          "data": {
            "text/plain": [
              "[Example({'sentence': 'user: 5 Tech Stocks That Typically ally After #SXSW  via user  NFX STX PCN AMZN EXPE', 'rating': 1}) (input_keys={'sentence'}),\n",
              " Example({'sentence': 'RT @djtgallagher: Samsung - like Micron and Nvidia - is getting a nice WFH boost from data center demand. Pain may be coming later, @jackyc�������', 'rating': 1}) (input_keys={'sentence'}),\n",
              " Example({'sentence': 'CEN price action looking good going into earnings tonight', 'rating': 1}) (input_keys={'sentence'}),\n",
              " Example({'sentence': 'Buying V on any and all pullbacks.  Doubled since IPO, expecting another double sooner than later', 'rating': 1}) (input_keys={'sentence'}),\n",
              " Example({'sentence': 'Altria��������s fraught investment in e-cigarette company Juul Labs will take even longer to redeem following a challenge������� https://t.co/AN7j1yYOe9', 'rating': 0}) (input_keys={'sentence'}),\n",
              " Example({'sentence': 'TM - ahhh! stupid prelim results! short but wanted to add puts before earnings...', 'rating': 0}) (input_keys={'sentence'}),\n",
              " Example({'sentence': 'SPW new HOD', 'rating': 1}) (input_keys={'sentence'}),\n",
              " Example({'sentence': 'Market Wrap Video + Additions to Watch ist  including: AMSC KBH MHK TW TTMI', 'rating': 1}) (input_keys={'sentence'}),\n",
              " Example({'sentence': 'NKD Over 179.35', 'rating': 1}) (input_keys={'sentence'}),\n",
              " Example({'sentence': 'EPS still think there is a better than 50% chance it tags 8, but moving stop on rest to 7.35', 'rating': 1}) (input_keys={'sentence'})]"
            ]
          },
          "metadata": {},
          "execution_count": 10
        }
      ]
    },
    {
      "cell_type": "markdown",
      "source": [
        "We'll repeat the same process for our `valset` as well."
      ],
      "metadata": {
        "id": "wZC2yAnqc31Q"
      }
    },
    {
      "cell_type": "code",
      "source": [
        "valset = trainset[0:100]\n",
        "trainset = trainset[100:]"
      ],
      "metadata": {
        "id": "VTDPZJUZD_hM"
      },
      "execution_count": 11,
      "outputs": []
    },
    {
      "cell_type": "markdown",
      "source": [
        "Let's take a peek at an example from our `trainset` and `valset`!"
      ],
      "metadata": {
        "id": "GKKim9uRc8Q0"
      }
    },
    {
      "cell_type": "code",
      "source": [
        "train_example = trainset[0]\n",
        "print(f\"Sentence: {train_example.sentence}\")\n",
        "print(f\"Label: {train_example.rating}\")"
      ],
      "metadata": {
        "id": "PVgP0ctkEJC9",
        "colab": {
          "base_uri": "https://localhost:8080/"
        },
        "outputId": "549155f7-1185-4d07-d439-43f5b45a6bef"
      },
      "execution_count": 12,
      "outputs": [
        {
          "output_type": "stream",
          "name": "stdout",
          "text": [
            "Sentence: FS daily few like the long call on this one but after chaos and mini sell we got oversold PWmo2!\n",
            "Label: 1\n"
          ]
        }
      ]
    },
    {
      "cell_type": "code",
      "source": [
        "valset_example = valset[0]\n",
        "print(f\"Sentence: {valset_example.sentence}\")\n",
        "print(f\"Label: {valset_example.rating}\")"
      ],
      "metadata": {
        "id": "zHFDjOT9EUip",
        "colab": {
          "base_uri": "https://localhost:8080/"
        },
        "outputId": "7a543bb0-ca09-4f71-f907-0fe6b7a21678"
      },
      "execution_count": 13,
      "outputs": [
        {
          "output_type": "stream",
          "name": "stdout",
          "text": [
            "Sentence: user: 5 Tech Stocks That Typically ally After #SXSW  via user  NFX STX PCN AMZN EXPE\n",
            "Label: 1\n"
          ]
        }
      ]
    },
    {
      "cell_type": "markdown",
      "source": [
        "## Signature\n",
        "\n",
        "The first foundational unit in DSPy is the `Signature`.\n",
        "\n",
        "In a sense, a `Signature` can be thought of as both a prompt, as well as metadata about that prompt.\n",
        "\n",
        "Going beyong just a simple `SystemMessage`, as seen in other frameworks, the `Signature` helps DSPy validate datatypes, create examples, and more.\n",
        "\n",
        "> NOTE: DSPy's [documentation](https://dspy-docs.vercel.app/docs/deep-dive/signature/understanding-signatures#what-is-a-signature) goes into more detail about what exactly a `Signature` is."
      ],
      "metadata": {
        "id": "lbjjPIJsdAYs"
      }
    },
    {
      "cell_type": "code",
      "source": [
        "from dspy import Signature, InputField, OutputField\n",
        "\n",
        "class PositiveOrNegativeSignature(Signature):\n",
        "  \"\"\"Rate the input as being either 1 or 0. Only return 1 or 0\"\"\"\n",
        "  sentence: str = InputField()\n",
        "  rating: int = OutputField(desc='key-value pairs')"
      ],
      "metadata": {
        "id": "WcshNXosEaRb"
      },
      "execution_count": 30,
      "outputs": []
    },
    {
      "cell_type": "markdown",
      "source": [
        "## Predictor\n",
        "\n",
        "Now that we have our `Signature`, we can build a `Predictor` that leverages it.\n",
        "\n",
        "A `Predictor`, in the simplest terms, is what calls the LLM using our signature. Importantly, the `Predictor` knows how to leverage our signature to call the LLM. From DSPy's documentation, one of the most interesting parts of a `Predictor` is that it can *learn* to become better at the desired task!\n",
        "\n",
        "Let's take a look at our `TypedPredictor` below to see more."
      ],
      "metadata": {
        "id": "R5BnXK3VdnSL"
      }
    },
    {
      "cell_type": "code",
      "source": [
        "from dspy.functional import TypedPredictor\n",
        "\n",
        "generate_label = TypedPredictor(PositiveOrNegativeSignature)"
      ],
      "metadata": {
        "id": "xxsLox0KEtwk"
      },
      "execution_count": 31,
      "outputs": []
    },
    {
      "cell_type": "code",
      "source": [
        "generate_label"
      ],
      "metadata": {
        "id": "uKjZPqJCeeGs",
        "colab": {
          "base_uri": "https://localhost:8080/"
        },
        "outputId": "ac48288b-77b9-4240-a10c-a8e3d87981d7"
      },
      "execution_count": 32,
      "outputs": [
        {
          "output_type": "execute_result",
          "data": {
            "text/plain": [
              "TypedPredictor(PositiveOrNegativeSignature(sentence -> rating\n",
              "    instructions='Rate the input as being either 1 or 0. Only return 1 or 0'\n",
              "    sentence = Field(annotation=str required=True json_schema_extra={'__dspy_field_type': 'input', 'prefix': 'Sentence:', 'desc': '${sentence}'})\n",
              "    rating = Field(annotation=int required=True json_schema_extra={'desc': 'key-value pairs', '__dspy_field_type': 'output', 'prefix': 'Rating:'})\n",
              "))"
            ]
          },
          "metadata": {},
          "execution_count": 32
        }
      ]
    },
    {
      "cell_type": "code",
      "source": [
        "label_prediction = generate_label(sentence=valset_example.sentence)\n",
        "print(f\"Sentence: {valset_example.sentence}\")\n",
        "print(f\"Prediction: {label_prediction}\")"
      ],
      "metadata": {
        "id": "UUjXc2BIE_as",
        "colab": {
          "base_uri": "https://localhost:8080/"
        },
        "outputId": "163f960d-ab67-470f-e460-70ddc4a6d08e"
      },
      "execution_count": 33,
      "outputs": [
        {
          "output_type": "stream",
          "name": "stdout",
          "text": [
            "Sentence: user: 5 Tech Stocks That Typically ally After #SXSW  via user  NFX STX PCN AMZN EXPE\n",
            "Prediction: Prediction(\n",
            "    rating=1\n",
            ")\n"
          ]
        }
      ]
    },
    {
      "cell_type": "markdown",
      "source": [
        "We can, at any time, check our LLMs outputs through the `inspect_history`."
      ],
      "metadata": {
        "id": "Fw6qrDP7gbf1"
      }
    },
    {
      "cell_type": "code",
      "source": [
        "llm.inspect_history(n=1)"
      ],
      "metadata": {
        "id": "ncjnowmCHGd0",
        "colab": {
          "base_uri": "https://localhost:8080/",
          "height": 399
        },
        "outputId": "2f740762-4358-4aaf-96e1-86f593735816"
      },
      "execution_count": 34,
      "outputs": [
        {
          "output_type": "stream",
          "name": "stdout",
          "text": [
            "\n",
            "\n",
            "\n",
            "Rate the input as being either 1 or 0. Only return 1 or 0\n",
            "\n",
            "---\n",
            "\n",
            "Follow the following format.\n",
            "\n",
            "Sentence: ${sentence}\n",
            "Rating: key-value pairs (Respond with a single int value)\n",
            "\n",
            "---\n",
            "\n",
            "Sentence: user: 5 Tech Stocks That Typically ally After #SXSW  via user  NFX STX PCN AMZN EXPE\n",
            "Rating:\u001b[32m 1\u001b[0m\n",
            "\n",
            "\n",
            "\n"
          ]
        },
        {
          "output_type": "execute_result",
          "data": {
            "text/plain": [
              "'\\n\\n\\nRate the input as being either 1 or 0. Only return 1 or 0\\n\\n---\\n\\nFollow the following format.\\n\\nSentence: ${sentence}\\nRating: key-value pairs (Respond with a single int value)\\n\\n---\\n\\nSentence: user: 5 Tech Stocks That Typically ally After #SXSW  via user  NFX STX PCN AMZN EXPE\\nRating:\\x1b[32m 1\\x1b[0m\\n\\n\\n'"
            ],
            "application/vnd.google.colaboratory.intrinsic+json": {
              "type": "string"
            }
          },
          "metadata": {},
          "execution_count": 34
        }
      ]
    },
    {
      "cell_type": "markdown",
      "source": [
        "Notice how, without our input - the `TypedPredictor` has included format instructions to the LLM to help ensure our returned data resembles what we desire."
      ],
      "metadata": {
        "id": "XTiQ2g3afO8k"
      }
    },
    {
      "cell_type": "markdown",
      "source": [
        "Let's look at another example of a `Predictor` - this time with Chain of Thought.\n",
        "\n",
        "In order to use this - we don't have to do anything with our `Signature`! We can leave it exactly as is - and allow the `Predictor` to adapt to it.\n",
        "\n",
        "> NOTE: We won't be using this predictor going forward - this is just to showcase the ease of using another `Predictor` with a `Signature`."
      ],
      "metadata": {
        "id": "wuuQ1GxNffdm"
      }
    },
    {
      "cell_type": "code",
      "source": [
        "from dspy.functional import TypedChainOfThought\n",
        "\n",
        "generate_label_with_chain_of_thought = TypedChainOfThought(PositiveOrNegativeSignature)\n",
        "\n",
        "label_prediction = generate_label_with_chain_of_thought(sentence=valset_example.sentence)"
      ],
      "metadata": {
        "id": "CcRQk4uQHImC"
      },
      "execution_count": 35,
      "outputs": []
    },
    {
      "cell_type": "code",
      "source": [
        "print(f\"Sentence: {valset_example.sentence}\")\n",
        "print(f\"Reasoning: {label_prediction.reasoning}\")\n",
        "print(f\"Ground Truth Label: {valset_example.rating}\")\n",
        "print(f\"Prediction: {label_prediction.rating}\")"
      ],
      "metadata": {
        "id": "vZf2PNb8HYaT",
        "colab": {
          "base_uri": "https://localhost:8080/"
        },
        "outputId": "22b4ffa4-fcad-4265-ec34-321c131c09a3"
      },
      "execution_count": 36,
      "outputs": [
        {
          "output_type": "stream",
          "name": "stdout",
          "text": [
            "Sentence: user: 5 Tech Stocks That Typically ally After #SXSW  via user  NFX STX PCN AMZN EXPE\n",
            "Reasoning: produce the rating. We see that the user is mentioning 5 tech stocks that typically rally after #SXSW, which indicates a positive trend in the stock market.\n",
            "Ground Truth Label: 1\n",
            "Prediction: 1\n"
          ]
        }
      ]
    },
    {
      "cell_type": "markdown",
      "source": [
        "We can, again, check our LLM's history to see what the actual prompt/response is.\n"
      ],
      "metadata": {
        "id": "miii9xQxgAzm"
      }
    },
    {
      "cell_type": "code",
      "source": [
        "llm.inspect_history(n=1)"
      ],
      "metadata": {
        "id": "dMxOlK65VzCZ",
        "colab": {
          "base_uri": "https://localhost:8080/",
          "height": 489
        },
        "outputId": "c85c0204-980f-45af-c75f-064686b72bbe"
      },
      "execution_count": 37,
      "outputs": [
        {
          "output_type": "stream",
          "name": "stdout",
          "text": [
            "\n",
            "\n",
            "\n",
            "Rate the input as being either 1 or 0. Only return 1 or 0\n",
            "\n",
            "---\n",
            "\n",
            "Follow the following format.\n",
            "\n",
            "Sentence: ${sentence}\n",
            "Reasoning: Let's think step by step in order to ${produce the rating}. We ...\n",
            "Rating: key-value pairs (Respond with a single int value)\n",
            "\n",
            "---\n",
            "\n",
            "Sentence: user: 5 Tech Stocks That Typically ally After #SXSW  via user  NFX STX PCN AMZN EXPE\n",
            "Reasoning: Let's think step by step in order to\u001b[32m produce the rating. We see that the user is mentioning 5 tech stocks that typically rally after #SXSW, which indicates a positive trend in the stock market.\n",
            "Rating: 1\u001b[0m\n",
            "\n",
            "\n",
            "\n"
          ]
        },
        {
          "output_type": "execute_result",
          "data": {
            "text/plain": [
              "\"\\n\\n\\nRate the input as being either 1 or 0. Only return 1 or 0\\n\\n---\\n\\nFollow the following format.\\n\\nSentence: ${sentence}\\nReasoning: Let's think step by step in order to ${produce the rating}. We ...\\nRating: key-value pairs (Respond with a single int value)\\n\\n---\\n\\nSentence: user: 5 Tech Stocks That Typically ally After #SXSW  via user  NFX STX PCN AMZN EXPE\\nReasoning: Let's think step by step in order to\\x1b[32m produce the rating. We see that the user is mentioning 5 tech stocks that typically rally after #SXSW, which indicates a positive trend in the stock market.\\nRating: 1\\x1b[0m\\n\\n\\n\""
            ],
            "application/vnd.google.colaboratory.intrinsic+json": {
              "type": "string"
            }
          },
          "metadata": {},
          "execution_count": 37
        }
      ]
    },
    {
      "cell_type": "markdown",
      "source": [
        "## Modules\n",
        "\n",
        "Now that we have our `TypedPredictor`, we can create a `Module`!\n",
        "\n",
        "A `Module` is useful because it allows us to interact with the `Predictor` and `Signature` in a way that DSPy can leverage for optimization.\n",
        "\n",
        "The helps the DSPy framework determine paths through your program - and helps during the `compilation` or optimisation steps (formerly `teleprompting`).\n",
        "\n",
        "> NOTE: You might notice this looks strikingly familiar to PyTorch, and this is by design!"
      ],
      "metadata": {
        "id": "a7U3yeCsg3B2"
      }
    },
    {
      "cell_type": "code",
      "source": [
        "from dspy import Module, Prediction\n",
        "\n",
        "class PositiveOrNegativeStudent(Module):\n",
        "  def __init__(self):\n",
        "    super().__init__()\n",
        "\n",
        "    self.generate_rating = TypedPredictor(PositiveOrNegativeSignature)\n",
        "\n",
        "  def forward(self, sentence):\n",
        "    prediction = self.generate_rating(sentence=sentence)\n",
        "    return Prediction(rating=prediction.rating)"
      ],
      "metadata": {
        "id": "H6GoyWyUJkl6"
      },
      "execution_count": 38,
      "outputs": []
    },
    {
      "cell_type": "markdown",
      "source": [
        "## Evaluate\n",
        "\n",
        "As with any good framework, DSPy has the ability to `Evaluate` - we can leverage this to determine how our current DSPy \"program\" (our `Module` in this case) operates.\n",
        "\n",
        "> NOTE: DSPy's \"program\" could be loosely related to a \"chain\" from the popular LLM Framework LangChain."
      ],
      "metadata": {
        "id": "PS2pf8tjh7lH"
      }
    },
    {
      "cell_type": "code",
      "source": [
        "from dspy.evaluate.evaluate import Evaluate\n",
        "\n",
        "evaluate_fewshot = Evaluate(devset=valset, num_threads=1, display_progress=True, display_table=10)\n",
        "\n",
        "def exact_match_metric(answer, pred, trace=None):\n",
        "  return answer.rating == pred.rating\n",
        "\n",
        "evaluate_fewshot(PositiveOrNegativeStudent(), metric=exact_match_metric)"
      ],
      "metadata": {
        "id": "C9o5461qMKyt",
        "colab": {
          "base_uri": "https://localhost:8080/",
          "height": 594
        },
        "outputId": "bc713438-a00d-45de-8476-046ca6b29c62"
      },
      "execution_count": 39,
      "outputs": [
        {
          "output_type": "stream",
          "name": "stdout",
          "text": [
            "Average Metric: 74 / 100  (74.0): 100%|██████████| 100/100 [00:30<00:00,  3.32it/s]\n"
          ]
        },
        {
          "output_type": "display_data",
          "data": {
            "text/plain": [
              "<pandas.io.formats.style.Styler at 0x7d54785858d0>"
            ],
            "text/html": [
              "<style type=\"text/css\">\n",
              "#T_08fc7 th {\n",
              "  text-align: left;\n",
              "}\n",
              "#T_08fc7 td {\n",
              "  text-align: left;\n",
              "}\n",
              "#T_08fc7_row0_col0, #T_08fc7_row0_col1, #T_08fc7_row0_col2, #T_08fc7_row0_col3, #T_08fc7_row1_col0, #T_08fc7_row1_col1, #T_08fc7_row1_col2, #T_08fc7_row1_col3, #T_08fc7_row2_col0, #T_08fc7_row2_col1, #T_08fc7_row2_col2, #T_08fc7_row2_col3, #T_08fc7_row3_col0, #T_08fc7_row3_col1, #T_08fc7_row3_col2, #T_08fc7_row3_col3, #T_08fc7_row4_col0, #T_08fc7_row4_col1, #T_08fc7_row4_col2, #T_08fc7_row4_col3, #T_08fc7_row5_col0, #T_08fc7_row5_col1, #T_08fc7_row5_col2, #T_08fc7_row5_col3, #T_08fc7_row6_col0, #T_08fc7_row6_col1, #T_08fc7_row6_col2, #T_08fc7_row6_col3, #T_08fc7_row7_col0, #T_08fc7_row7_col1, #T_08fc7_row7_col2, #T_08fc7_row7_col3, #T_08fc7_row8_col0, #T_08fc7_row8_col1, #T_08fc7_row8_col2, #T_08fc7_row8_col3, #T_08fc7_row9_col0, #T_08fc7_row9_col1, #T_08fc7_row9_col2, #T_08fc7_row9_col3 {\n",
              "  text-align: left;\n",
              "  white-space: pre-wrap;\n",
              "  word-wrap: break-word;\n",
              "  max-width: 400px;\n",
              "}\n",
              "</style>\n",
              "<table id=\"T_08fc7\" class=\"dataframe\">\n",
              "  <thead>\n",
              "    <tr>\n",
              "      <th class=\"blank level0\" >&nbsp;</th>\n",
              "      <th id=\"T_08fc7_level0_col0\" class=\"col_heading level0 col0\" >sentence</th>\n",
              "      <th id=\"T_08fc7_level0_col1\" class=\"col_heading level0 col1\" >example_rating</th>\n",
              "      <th id=\"T_08fc7_level0_col2\" class=\"col_heading level0 col2\" >pred_rating</th>\n",
              "      <th id=\"T_08fc7_level0_col3\" class=\"col_heading level0 col3\" >exact_match_metric</th>\n",
              "    </tr>\n",
              "  </thead>\n",
              "  <tbody>\n",
              "    <tr>\n",
              "      <th id=\"T_08fc7_level0_row0\" class=\"row_heading level0 row0\" >0</th>\n",
              "      <td id=\"T_08fc7_row0_col0\" class=\"data row0 col0\" >user: 5 Tech Stocks That Typically ally After #SXSW  via user  NFX STX PCN AMZN EXPE</td>\n",
              "      <td id=\"T_08fc7_row0_col1\" class=\"data row0 col1\" >1</td>\n",
              "      <td id=\"T_08fc7_row0_col2\" class=\"data row0 col2\" >1</td>\n",
              "      <td id=\"T_08fc7_row0_col3\" class=\"data row0 col3\" >✔️ [True]</td>\n",
              "    </tr>\n",
              "    <tr>\n",
              "      <th id=\"T_08fc7_level0_row1\" class=\"row_heading level0 row1\" >1</th>\n",
              "      <td id=\"T_08fc7_row1_col0\" class=\"data row1 col0\" >RT @djtgallagher: Samsung - like Micron and Nvidia - is getting a nice WFH boost from data center demand. Pain may be coming later, @jackyc�������</td>\n",
              "      <td id=\"T_08fc7_row1_col1\" class=\"data row1 col1\" >1</td>\n",
              "      <td id=\"T_08fc7_row1_col2\" class=\"data row1 col2\" >1</td>\n",
              "      <td id=\"T_08fc7_row1_col3\" class=\"data row1 col3\" >✔️ [True]</td>\n",
              "    </tr>\n",
              "    <tr>\n",
              "      <th id=\"T_08fc7_level0_row2\" class=\"row_heading level0 row2\" >2</th>\n",
              "      <td id=\"T_08fc7_row2_col0\" class=\"data row2 col0\" >CEN price action looking good going into earnings tonight</td>\n",
              "      <td id=\"T_08fc7_row2_col1\" class=\"data row2 col1\" >1</td>\n",
              "      <td id=\"T_08fc7_row2_col2\" class=\"data row2 col2\" >1</td>\n",
              "      <td id=\"T_08fc7_row2_col3\" class=\"data row2 col3\" >✔️ [True]</td>\n",
              "    </tr>\n",
              "    <tr>\n",
              "      <th id=\"T_08fc7_level0_row3\" class=\"row_heading level0 row3\" >3</th>\n",
              "      <td id=\"T_08fc7_row3_col0\" class=\"data row3 col0\" >Buying V on any and all pullbacks.  Doubled since IPO, expecting another double sooner than later</td>\n",
              "      <td id=\"T_08fc7_row3_col1\" class=\"data row3 col1\" >1</td>\n",
              "      <td id=\"T_08fc7_row3_col2\" class=\"data row3 col2\" >1</td>\n",
              "      <td id=\"T_08fc7_row3_col3\" class=\"data row3 col3\" >✔️ [True]</td>\n",
              "    </tr>\n",
              "    <tr>\n",
              "      <th id=\"T_08fc7_level0_row4\" class=\"row_heading level0 row4\" >4</th>\n",
              "      <td id=\"T_08fc7_row4_col0\" class=\"data row4 col0\" >Altria��������s fraught investment in e-cigarette company Juul Labs will take even longer to redeem following a challenge������� https://t.co/AN7j1yYOe9</td>\n",
              "      <td id=\"T_08fc7_row4_col1\" class=\"data row4 col1\" >0</td>\n",
              "      <td id=\"T_08fc7_row4_col2\" class=\"data row4 col2\" >1</td>\n",
              "      <td id=\"T_08fc7_row4_col3\" class=\"data row4 col3\" >False</td>\n",
              "    </tr>\n",
              "    <tr>\n",
              "      <th id=\"T_08fc7_level0_row5\" class=\"row_heading level0 row5\" >5</th>\n",
              "      <td id=\"T_08fc7_row5_col0\" class=\"data row5 col0\" >TM - ahhh! stupid prelim results! short but wanted to add puts before earnings...</td>\n",
              "      <td id=\"T_08fc7_row5_col1\" class=\"data row5 col1\" >0</td>\n",
              "      <td id=\"T_08fc7_row5_col2\" class=\"data row5 col2\" >1</td>\n",
              "      <td id=\"T_08fc7_row5_col3\" class=\"data row5 col3\" >False</td>\n",
              "    </tr>\n",
              "    <tr>\n",
              "      <th id=\"T_08fc7_level0_row6\" class=\"row_heading level0 row6\" >6</th>\n",
              "      <td id=\"T_08fc7_row6_col0\" class=\"data row6 col0\" >SPW new HOD</td>\n",
              "      <td id=\"T_08fc7_row6_col1\" class=\"data row6 col1\" >1</td>\n",
              "      <td id=\"T_08fc7_row6_col2\" class=\"data row6 col2\" >1</td>\n",
              "      <td id=\"T_08fc7_row6_col3\" class=\"data row6 col3\" >✔️ [True]</td>\n",
              "    </tr>\n",
              "    <tr>\n",
              "      <th id=\"T_08fc7_level0_row7\" class=\"row_heading level0 row7\" >7</th>\n",
              "      <td id=\"T_08fc7_row7_col0\" class=\"data row7 col0\" >Market Wrap Video + Additions to Watch ist  including: AMSC KBH MHK TW TTMI</td>\n",
              "      <td id=\"T_08fc7_row7_col1\" class=\"data row7 col1\" >1</td>\n",
              "      <td id=\"T_08fc7_row7_col2\" class=\"data row7 col2\" >1</td>\n",
              "      <td id=\"T_08fc7_row7_col3\" class=\"data row7 col3\" >✔️ [True]</td>\n",
              "    </tr>\n",
              "    <tr>\n",
              "      <th id=\"T_08fc7_level0_row8\" class=\"row_heading level0 row8\" >8</th>\n",
              "      <td id=\"T_08fc7_row8_col0\" class=\"data row8 col0\" >NKD Over 179.35</td>\n",
              "      <td id=\"T_08fc7_row8_col1\" class=\"data row8 col1\" >1</td>\n",
              "      <td id=\"T_08fc7_row8_col2\" class=\"data row8 col2\" >1</td>\n",
              "      <td id=\"T_08fc7_row8_col3\" class=\"data row8 col3\" >✔️ [True]</td>\n",
              "    </tr>\n",
              "    <tr>\n",
              "      <th id=\"T_08fc7_level0_row9\" class=\"row_heading level0 row9\" >9</th>\n",
              "      <td id=\"T_08fc7_row9_col0\" class=\"data row9 col0\" >EPS still think there is a better than 50% chance it tags 8, but moving stop on rest to 7.35</td>\n",
              "      <td id=\"T_08fc7_row9_col1\" class=\"data row9 col1\" >1</td>\n",
              "      <td id=\"T_08fc7_row9_col2\" class=\"data row9 col2\" >1</td>\n",
              "      <td id=\"T_08fc7_row9_col3\" class=\"data row9 col3\" >✔️ [True]</td>\n",
              "    </tr>\n",
              "  </tbody>\n",
              "</table>\n"
            ]
          },
          "metadata": {}
        },
        {
          "output_type": "display_data",
          "data": {
            "text/plain": [
              "<IPython.core.display.HTML object>"
            ],
            "text/html": [
              "\n",
              "                <div style='\n",
              "                    text-align: center;\n",
              "                    font-size: 16px;\n",
              "                    font-weight: bold;\n",
              "                    color: #555;\n",
              "                    margin: 10px 0;'>\n",
              "                    ... 90 more rows not displayed ...\n",
              "                </div>\n",
              "                "
            ]
          },
          "metadata": {}
        },
        {
          "output_type": "execute_result",
          "data": {
            "text/plain": [
              "74.0"
            ]
          },
          "metadata": {},
          "execution_count": 39
        }
      ]
    },
    {
      "cell_type": "code",
      "source": [
        "llm.inspect_history(n=1)"
      ],
      "metadata": {
        "colab": {
          "base_uri": "https://localhost:8080/",
          "height": 399
        },
        "id": "51shv4SZ4Tbu",
        "outputId": "adaa7957-be33-4164-a8b4-03de17c31842"
      },
      "execution_count": 40,
      "outputs": [
        {
          "output_type": "stream",
          "name": "stdout",
          "text": [
            "\n",
            "\n",
            "\n",
            "Rate the input as being either 1 or 0. Only return 1 or 0\n",
            "\n",
            "---\n",
            "\n",
            "Follow the following format.\n",
            "\n",
            "Sentence: ${sentence}\n",
            "Rating: key-value pairs (Respond with a single int value)\n",
            "\n",
            "---\n",
            "\n",
            "Sentence: HPQ NVDA QCOM umored HP tablet could use Tegra 4 chip and Android as its OS\n",
            "Rating:\u001b[32m 1\u001b[0m\n",
            "\n",
            "\n",
            "\n"
          ]
        },
        {
          "output_type": "execute_result",
          "data": {
            "text/plain": [
              "'\\n\\n\\nRate the input as being either 1 or 0. Only return 1 or 0\\n\\n---\\n\\nFollow the following format.\\n\\nSentence: ${sentence}\\nRating: key-value pairs (Respond with a single int value)\\n\\n---\\n\\nSentence: HPQ NVDA QCOM umored HP tablet could use Tegra 4 chip and Android as its OS\\nRating:\\x1b[32m 1\\x1b[0m\\n\\n\\n'"
            ],
            "application/vnd.google.colaboratory.intrinsic+json": {
              "type": "string"
            }
          },
          "metadata": {},
          "execution_count": 40
        }
      ]
    },
    {
      "cell_type": "markdown",
      "source": [
        "## Program Optimization (the Artist Formerly Known as Teleprompting)\n",
        "\n",
        "Optimization is the crux of the DSPy framework - it is what allows it to operate at a level beyond traditional prompt engineering.\n",
        "\n",
        "At a high level, optimisation is a way for the DSPy framework to take the program, a training set, and a metric - and make changes/tweaks to our program to improve our metrics on our dataset.\n",
        "\n",
        "Let's get started with the `LabeledFewShot` optimizer.\n",
        "\n",
        "The `LabeledFewShot` optimizer very simply provides a sample of the `trainset` as few-shot examples!"
      ],
      "metadata": {
        "id": "eIK6OdQFiUww"
      }
    },
    {
      "cell_type": "code",
      "source": [
        "from dspy.teleprompt import LabeledFewShot\n",
        "\n",
        "labeled_fewshot_optimizer = LabeledFewShot(k=4)"
      ],
      "metadata": {
        "id": "wBq1Xs-CHphS"
      },
      "execution_count": 41,
      "outputs": []
    },
    {
      "cell_type": "markdown",
      "source": [
        "Once we define our optimizer, we can compile our program!"
      ],
      "metadata": {
        "id": "KdtrS7hXjHzv"
      }
    },
    {
      "cell_type": "code",
      "source": [
        "compiled_dspy = labeled_fewshot_optimizer.compile(student=PositiveOrNegativeStudent(), trainset=trainset)"
      ],
      "metadata": {
        "id": "eVv4aK2QJD3v"
      },
      "execution_count": 42,
      "outputs": []
    },
    {
      "cell_type": "markdown",
      "source": [
        "Let's evaluate!"
      ],
      "metadata": {
        "id": "8k_KhbL_jMXK"
      }
    },
    {
      "cell_type": "code",
      "source": [
        "evaluate_fewshot(compiled_dspy, metric=exact_match_metric)"
      ],
      "metadata": {
        "id": "oxl_zZ51JQRc",
        "colab": {
          "base_uri": "https://localhost:8080/",
          "height": 594
        },
        "outputId": "e6005393-a281-4fe6-bd73-967064d1132f"
      },
      "execution_count": 43,
      "outputs": [
        {
          "output_type": "stream",
          "name": "stdout",
          "text": [
            "Average Metric: 77 / 100  (77.0): 100%|██████████| 100/100 [00:30<00:00,  3.33it/s]\n"
          ]
        },
        {
          "output_type": "display_data",
          "data": {
            "text/plain": [
              "<pandas.io.formats.style.Styler at 0x7d54733bdf60>"
            ],
            "text/html": [
              "<style type=\"text/css\">\n",
              "#T_75ff7 th {\n",
              "  text-align: left;\n",
              "}\n",
              "#T_75ff7 td {\n",
              "  text-align: left;\n",
              "}\n",
              "#T_75ff7_row0_col0, #T_75ff7_row0_col1, #T_75ff7_row0_col2, #T_75ff7_row0_col3, #T_75ff7_row1_col0, #T_75ff7_row1_col1, #T_75ff7_row1_col2, #T_75ff7_row1_col3, #T_75ff7_row2_col0, #T_75ff7_row2_col1, #T_75ff7_row2_col2, #T_75ff7_row2_col3, #T_75ff7_row3_col0, #T_75ff7_row3_col1, #T_75ff7_row3_col2, #T_75ff7_row3_col3, #T_75ff7_row4_col0, #T_75ff7_row4_col1, #T_75ff7_row4_col2, #T_75ff7_row4_col3, #T_75ff7_row5_col0, #T_75ff7_row5_col1, #T_75ff7_row5_col2, #T_75ff7_row5_col3, #T_75ff7_row6_col0, #T_75ff7_row6_col1, #T_75ff7_row6_col2, #T_75ff7_row6_col3, #T_75ff7_row7_col0, #T_75ff7_row7_col1, #T_75ff7_row7_col2, #T_75ff7_row7_col3, #T_75ff7_row8_col0, #T_75ff7_row8_col1, #T_75ff7_row8_col2, #T_75ff7_row8_col3, #T_75ff7_row9_col0, #T_75ff7_row9_col1, #T_75ff7_row9_col2, #T_75ff7_row9_col3 {\n",
              "  text-align: left;\n",
              "  white-space: pre-wrap;\n",
              "  word-wrap: break-word;\n",
              "  max-width: 400px;\n",
              "}\n",
              "</style>\n",
              "<table id=\"T_75ff7\" class=\"dataframe\">\n",
              "  <thead>\n",
              "    <tr>\n",
              "      <th class=\"blank level0\" >&nbsp;</th>\n",
              "      <th id=\"T_75ff7_level0_col0\" class=\"col_heading level0 col0\" >sentence</th>\n",
              "      <th id=\"T_75ff7_level0_col1\" class=\"col_heading level0 col1\" >example_rating</th>\n",
              "      <th id=\"T_75ff7_level0_col2\" class=\"col_heading level0 col2\" >pred_rating</th>\n",
              "      <th id=\"T_75ff7_level0_col3\" class=\"col_heading level0 col3\" >exact_match_metric</th>\n",
              "    </tr>\n",
              "  </thead>\n",
              "  <tbody>\n",
              "    <tr>\n",
              "      <th id=\"T_75ff7_level0_row0\" class=\"row_heading level0 row0\" >0</th>\n",
              "      <td id=\"T_75ff7_row0_col0\" class=\"data row0 col0\" >user: 5 Tech Stocks That Typically ally After #SXSW  via user  NFX STX PCN AMZN EXPE</td>\n",
              "      <td id=\"T_75ff7_row0_col1\" class=\"data row0 col1\" >1</td>\n",
              "      <td id=\"T_75ff7_row0_col2\" class=\"data row0 col2\" >1</td>\n",
              "      <td id=\"T_75ff7_row0_col3\" class=\"data row0 col3\" >✔️ [True]</td>\n",
              "    </tr>\n",
              "    <tr>\n",
              "      <th id=\"T_75ff7_level0_row1\" class=\"row_heading level0 row1\" >1</th>\n",
              "      <td id=\"T_75ff7_row1_col0\" class=\"data row1 col0\" >RT @djtgallagher: Samsung - like Micron and Nvidia - is getting a nice WFH boost from data center demand. Pain may be coming later, @jackyc�������</td>\n",
              "      <td id=\"T_75ff7_row1_col1\" class=\"data row1 col1\" >1</td>\n",
              "      <td id=\"T_75ff7_row1_col2\" class=\"data row1 col2\" >1</td>\n",
              "      <td id=\"T_75ff7_row1_col3\" class=\"data row1 col3\" >✔️ [True]</td>\n",
              "    </tr>\n",
              "    <tr>\n",
              "      <th id=\"T_75ff7_level0_row2\" class=\"row_heading level0 row2\" >2</th>\n",
              "      <td id=\"T_75ff7_row2_col0\" class=\"data row2 col0\" >CEN price action looking good going into earnings tonight</td>\n",
              "      <td id=\"T_75ff7_row2_col1\" class=\"data row2 col1\" >1</td>\n",
              "      <td id=\"T_75ff7_row2_col2\" class=\"data row2 col2\" >1</td>\n",
              "      <td id=\"T_75ff7_row2_col3\" class=\"data row2 col3\" >✔️ [True]</td>\n",
              "    </tr>\n",
              "    <tr>\n",
              "      <th id=\"T_75ff7_level0_row3\" class=\"row_heading level0 row3\" >3</th>\n",
              "      <td id=\"T_75ff7_row3_col0\" class=\"data row3 col0\" >Buying V on any and all pullbacks.  Doubled since IPO, expecting another double sooner than later</td>\n",
              "      <td id=\"T_75ff7_row3_col1\" class=\"data row3 col1\" >1</td>\n",
              "      <td id=\"T_75ff7_row3_col2\" class=\"data row3 col2\" >1</td>\n",
              "      <td id=\"T_75ff7_row3_col3\" class=\"data row3 col3\" >✔️ [True]</td>\n",
              "    </tr>\n",
              "    <tr>\n",
              "      <th id=\"T_75ff7_level0_row4\" class=\"row_heading level0 row4\" >4</th>\n",
              "      <td id=\"T_75ff7_row4_col0\" class=\"data row4 col0\" >Altria��������s fraught investment in e-cigarette company Juul Labs will take even longer to redeem following a challenge������� https://t.co/AN7j1yYOe9</td>\n",
              "      <td id=\"T_75ff7_row4_col1\" class=\"data row4 col1\" >0</td>\n",
              "      <td id=\"T_75ff7_row4_col2\" class=\"data row4 col2\" >1</td>\n",
              "      <td id=\"T_75ff7_row4_col3\" class=\"data row4 col3\" >False</td>\n",
              "    </tr>\n",
              "    <tr>\n",
              "      <th id=\"T_75ff7_level0_row5\" class=\"row_heading level0 row5\" >5</th>\n",
              "      <td id=\"T_75ff7_row5_col0\" class=\"data row5 col0\" >TM - ahhh! stupid prelim results! short but wanted to add puts before earnings...</td>\n",
              "      <td id=\"T_75ff7_row5_col1\" class=\"data row5 col1\" >0</td>\n",
              "      <td id=\"T_75ff7_row5_col2\" class=\"data row5 col2\" >0</td>\n",
              "      <td id=\"T_75ff7_row5_col3\" class=\"data row5 col3\" >✔️ [True]</td>\n",
              "    </tr>\n",
              "    <tr>\n",
              "      <th id=\"T_75ff7_level0_row6\" class=\"row_heading level0 row6\" >6</th>\n",
              "      <td id=\"T_75ff7_row6_col0\" class=\"data row6 col0\" >SPW new HOD</td>\n",
              "      <td id=\"T_75ff7_row6_col1\" class=\"data row6 col1\" >1</td>\n",
              "      <td id=\"T_75ff7_row6_col2\" class=\"data row6 col2\" >1</td>\n",
              "      <td id=\"T_75ff7_row6_col3\" class=\"data row6 col3\" >✔️ [True]</td>\n",
              "    </tr>\n",
              "    <tr>\n",
              "      <th id=\"T_75ff7_level0_row7\" class=\"row_heading level0 row7\" >7</th>\n",
              "      <td id=\"T_75ff7_row7_col0\" class=\"data row7 col0\" >Market Wrap Video + Additions to Watch ist  including: AMSC KBH MHK TW TTMI</td>\n",
              "      <td id=\"T_75ff7_row7_col1\" class=\"data row7 col1\" >1</td>\n",
              "      <td id=\"T_75ff7_row7_col2\" class=\"data row7 col2\" >1</td>\n",
              "      <td id=\"T_75ff7_row7_col3\" class=\"data row7 col3\" >✔️ [True]</td>\n",
              "    </tr>\n",
              "    <tr>\n",
              "      <th id=\"T_75ff7_level0_row8\" class=\"row_heading level0 row8\" >8</th>\n",
              "      <td id=\"T_75ff7_row8_col0\" class=\"data row8 col0\" >NKD Over 179.35</td>\n",
              "      <td id=\"T_75ff7_row8_col1\" class=\"data row8 col1\" >1</td>\n",
              "      <td id=\"T_75ff7_row8_col2\" class=\"data row8 col2\" >1</td>\n",
              "      <td id=\"T_75ff7_row8_col3\" class=\"data row8 col3\" >✔️ [True]</td>\n",
              "    </tr>\n",
              "    <tr>\n",
              "      <th id=\"T_75ff7_level0_row9\" class=\"row_heading level0 row9\" >9</th>\n",
              "      <td id=\"T_75ff7_row9_col0\" class=\"data row9 col0\" >EPS still think there is a better than 50% chance it tags 8, but moving stop on rest to 7.35</td>\n",
              "      <td id=\"T_75ff7_row9_col1\" class=\"data row9 col1\" >1</td>\n",
              "      <td id=\"T_75ff7_row9_col2\" class=\"data row9 col2\" >1</td>\n",
              "      <td id=\"T_75ff7_row9_col3\" class=\"data row9 col3\" >✔️ [True]</td>\n",
              "    </tr>\n",
              "  </tbody>\n",
              "</table>\n"
            ]
          },
          "metadata": {}
        },
        {
          "output_type": "display_data",
          "data": {
            "text/plain": [
              "<IPython.core.display.HTML object>"
            ],
            "text/html": [
              "\n",
              "                <div style='\n",
              "                    text-align: center;\n",
              "                    font-size: 16px;\n",
              "                    font-weight: bold;\n",
              "                    color: #555;\n",
              "                    margin: 10px 0;'>\n",
              "                    ... 90 more rows not displayed ...\n",
              "                </div>\n",
              "                "
            ]
          },
          "metadata": {}
        },
        {
          "output_type": "execute_result",
          "data": {
            "text/plain": [
              "77.0"
            ]
          },
          "metadata": {},
          "execution_count": 43
        }
      ]
    },
    {
      "cell_type": "code",
      "source": [
        "llm.inspect_history(n=1)"
      ],
      "metadata": {
        "colab": {
          "base_uri": "https://localhost:8080/",
          "height": 798
        },
        "id": "T79ZAgmt4X7d",
        "outputId": "698ed2da-2024-4ced-fa3e-2012348c3aa0"
      },
      "execution_count": 44,
      "outputs": [
        {
          "output_type": "stream",
          "name": "stdout",
          "text": [
            "\n",
            "\n",
            "\n",
            "Rate the input as being either 1 or 0. Only return 1 or 0\n",
            "\n",
            "---\n",
            "\n",
            "Follow the following format.\n",
            "\n",
            "Sentence: ${sentence}\n",
            "Rating: key-value pairs (Respond with a single int value)\n",
            "\n",
            "---\n",
            "\n",
            "Sentence: Green Weekly Triangle on HEO,.....Third Scaling and Closed  \n",
            "Rating: 0\n",
            "\n",
            "---\n",
            "\n",
            "Sentence: user: AAP  hod   WAT  CAN I SAY.... A THE BEAS>>OTA THE POO!\n",
            "Rating: 1\n",
            "\n",
            "---\n",
            "\n",
            "Sentence: Why can't they take AAP out of the index? It's holding everyone back! Slacker !!\n",
            "Rating: 0\n",
            "\n",
            "---\n",
            "\n",
            "Sentence: GNC - nice inverse head and shoulders, as well as a nice pullback to support from the previous box-breakout\n",
            "Rating: 1\n",
            "\n",
            "---\n",
            "\n",
            "Sentence: HPQ NVDA QCOM umored HP tablet could use Tegra 4 chip and Android as its OS\n",
            "Rating:\u001b[32m 1\u001b[0m\n",
            "\n",
            "\n",
            "\n"
          ]
        },
        {
          "output_type": "execute_result",
          "data": {
            "text/plain": [
              "\"\\n\\n\\nRate the input as being either 1 or 0. Only return 1 or 0\\n\\n---\\n\\nFollow the following format.\\n\\nSentence: ${sentence}\\nRating: key-value pairs (Respond with a single int value)\\n\\n---\\n\\nSentence: Green Weekly Triangle on HEO,.....Third Scaling and Closed  \\nRating: 0\\n\\n---\\n\\nSentence: user: AAP  hod   WAT  CAN I SAY.... A THE BEAS>>OTA THE POO!\\nRating: 1\\n\\n---\\n\\nSentence: Why can't they take AAP out of the index? It's holding everyone back! Slacker !!\\nRating: 0\\n\\n---\\n\\nSentence: GNC - nice inverse head and shoulders, as well as a nice pullback to support from the previous box-breakout\\nRating: 1\\n\\n---\\n\\nSentence: HPQ NVDA QCOM umored HP tablet could use Tegra 4 chip and Android as its OS\\nRating:\\x1b[32m 1\\x1b[0m\\n\\n\\n\""
            ],
            "application/vnd.google.colaboratory.intrinsic+json": {
              "type": "string"
            }
          },
          "metadata": {},
          "execution_count": 44
        }
      ]
    },
    {
      "cell_type": "markdown",
      "source": [
        "As you can see - with no effort at all - we can improve our performance on our `valset`!"
      ],
      "metadata": {
        "id": "htpDiJLcjOOI"
      }
    },
    {
      "cell_type": "markdown",
      "source": [
        "Let's try another optimizer - this time: [`BootstrapFewShot`](https://dspy-docs.vercel.app/docs/deep-dive/teleprompter/bootstrap-fewshot).\n",
        "\n",
        "The key thing to note is that this optimizer works with even very few examples - by way of generating new examples by the LLMs!"
      ],
      "metadata": {
        "id": "fyf5baq0jU1Z"
      }
    },
    {
      "cell_type": "code",
      "source": [
        "from dspy.teleprompt import BootstrapFewShot\n",
        "\n",
        "optimizer = BootstrapFewShot(metric=exact_match_metric, max_bootstrapped_demos=4, max_labeled_demos=12)\n",
        "\n",
        "compiled_dspy_BOOTSTRAP = optimizer.compile(student=PositiveOrNegativeStudent(), trainset=trainset)"
      ],
      "metadata": {
        "id": "vPx1wKpAUKBx",
        "colab": {
          "base_uri": "https://localhost:8080/"
        },
        "outputId": "5b4b8d03-f7e7-4854-9630-64cce681d21b"
      },
      "execution_count": 45,
      "outputs": [
        {
          "output_type": "stream",
          "name": "stderr",
          "text": [
            "  0%|          | 8/5691 [00:02<27:40,  3.42it/s]\n"
          ]
        }
      ]
    },
    {
      "cell_type": "markdown",
      "source": [
        "Let's finally evaluate!"
      ],
      "metadata": {
        "id": "YsF13taMo6dm"
      }
    },
    {
      "cell_type": "code",
      "source": [
        "eval_output = evaluate_fewshot(compiled_dspy_BOOTSTRAP, metric=exact_match_metric)\n",
        "eval_output"
      ],
      "metadata": {
        "id": "lFwORTZbUcwG",
        "colab": {
          "base_uri": "https://localhost:8080/",
          "height": 594
        },
        "outputId": "e183d204-dfe3-43f6-d125-76b9b21ed8b7"
      },
      "execution_count": 46,
      "outputs": [
        {
          "output_type": "stream",
          "name": "stdout",
          "text": [
            "Average Metric: 74 / 100  (74.0): 100%|██████████| 100/100 [00:36<00:00,  2.71it/s]\n"
          ]
        },
        {
          "output_type": "display_data",
          "data": {
            "text/plain": [
              "<pandas.io.formats.style.Styler at 0x7d5478ecb760>"
            ],
            "text/html": [
              "<style type=\"text/css\">\n",
              "#T_cd902 th {\n",
              "  text-align: left;\n",
              "}\n",
              "#T_cd902 td {\n",
              "  text-align: left;\n",
              "}\n",
              "#T_cd902_row0_col0, #T_cd902_row0_col1, #T_cd902_row0_col2, #T_cd902_row0_col3, #T_cd902_row1_col0, #T_cd902_row1_col1, #T_cd902_row1_col2, #T_cd902_row1_col3, #T_cd902_row2_col0, #T_cd902_row2_col1, #T_cd902_row2_col2, #T_cd902_row2_col3, #T_cd902_row3_col0, #T_cd902_row3_col1, #T_cd902_row3_col2, #T_cd902_row3_col3, #T_cd902_row4_col0, #T_cd902_row4_col1, #T_cd902_row4_col2, #T_cd902_row4_col3, #T_cd902_row5_col0, #T_cd902_row5_col1, #T_cd902_row5_col2, #T_cd902_row5_col3, #T_cd902_row6_col0, #T_cd902_row6_col1, #T_cd902_row6_col2, #T_cd902_row6_col3, #T_cd902_row7_col0, #T_cd902_row7_col1, #T_cd902_row7_col2, #T_cd902_row7_col3, #T_cd902_row8_col0, #T_cd902_row8_col1, #T_cd902_row8_col2, #T_cd902_row8_col3, #T_cd902_row9_col0, #T_cd902_row9_col1, #T_cd902_row9_col2, #T_cd902_row9_col3 {\n",
              "  text-align: left;\n",
              "  white-space: pre-wrap;\n",
              "  word-wrap: break-word;\n",
              "  max-width: 400px;\n",
              "}\n",
              "</style>\n",
              "<table id=\"T_cd902\" class=\"dataframe\">\n",
              "  <thead>\n",
              "    <tr>\n",
              "      <th class=\"blank level0\" >&nbsp;</th>\n",
              "      <th id=\"T_cd902_level0_col0\" class=\"col_heading level0 col0\" >sentence</th>\n",
              "      <th id=\"T_cd902_level0_col1\" class=\"col_heading level0 col1\" >example_rating</th>\n",
              "      <th id=\"T_cd902_level0_col2\" class=\"col_heading level0 col2\" >pred_rating</th>\n",
              "      <th id=\"T_cd902_level0_col3\" class=\"col_heading level0 col3\" >exact_match_metric</th>\n",
              "    </tr>\n",
              "  </thead>\n",
              "  <tbody>\n",
              "    <tr>\n",
              "      <th id=\"T_cd902_level0_row0\" class=\"row_heading level0 row0\" >0</th>\n",
              "      <td id=\"T_cd902_row0_col0\" class=\"data row0 col0\" >user: 5 Tech Stocks That Typically ally After #SXSW  via user  NFX STX PCN AMZN EXPE</td>\n",
              "      <td id=\"T_cd902_row0_col1\" class=\"data row0 col1\" >1</td>\n",
              "      <td id=\"T_cd902_row0_col2\" class=\"data row0 col2\" >1</td>\n",
              "      <td id=\"T_cd902_row0_col3\" class=\"data row0 col3\" >✔️ [True]</td>\n",
              "    </tr>\n",
              "    <tr>\n",
              "      <th id=\"T_cd902_level0_row1\" class=\"row_heading level0 row1\" >1</th>\n",
              "      <td id=\"T_cd902_row1_col0\" class=\"data row1 col0\" >RT @djtgallagher: Samsung - like Micron and Nvidia - is getting a nice WFH boost from data center demand. Pain may be coming later, @jackyc�������</td>\n",
              "      <td id=\"T_cd902_row1_col1\" class=\"data row1 col1\" >1</td>\n",
              "      <td id=\"T_cd902_row1_col2\" class=\"data row1 col2\" >0</td>\n",
              "      <td id=\"T_cd902_row1_col3\" class=\"data row1 col3\" >False</td>\n",
              "    </tr>\n",
              "    <tr>\n",
              "      <th id=\"T_cd902_level0_row2\" class=\"row_heading level0 row2\" >2</th>\n",
              "      <td id=\"T_cd902_row2_col0\" class=\"data row2 col0\" >CEN price action looking good going into earnings tonight</td>\n",
              "      <td id=\"T_cd902_row2_col1\" class=\"data row2 col1\" >1</td>\n",
              "      <td id=\"T_cd902_row2_col2\" class=\"data row2 col2\" >1</td>\n",
              "      <td id=\"T_cd902_row2_col3\" class=\"data row2 col3\" >✔️ [True]</td>\n",
              "    </tr>\n",
              "    <tr>\n",
              "      <th id=\"T_cd902_level0_row3\" class=\"row_heading level0 row3\" >3</th>\n",
              "      <td id=\"T_cd902_row3_col0\" class=\"data row3 col0\" >Buying V on any and all pullbacks.  Doubled since IPO, expecting another double sooner than later</td>\n",
              "      <td id=\"T_cd902_row3_col1\" class=\"data row3 col1\" >1</td>\n",
              "      <td id=\"T_cd902_row3_col2\" class=\"data row3 col2\" >1</td>\n",
              "      <td id=\"T_cd902_row3_col3\" class=\"data row3 col3\" >✔️ [True]</td>\n",
              "    </tr>\n",
              "    <tr>\n",
              "      <th id=\"T_cd902_level0_row4\" class=\"row_heading level0 row4\" >4</th>\n",
              "      <td id=\"T_cd902_row4_col0\" class=\"data row4 col0\" >Altria��������s fraught investment in e-cigarette company Juul Labs will take even longer to redeem following a challenge������� https://t.co/AN7j1yYOe9</td>\n",
              "      <td id=\"T_cd902_row4_col1\" class=\"data row4 col1\" >0</td>\n",
              "      <td id=\"T_cd902_row4_col2\" class=\"data row4 col2\" >1</td>\n",
              "      <td id=\"T_cd902_row4_col3\" class=\"data row4 col3\" >False</td>\n",
              "    </tr>\n",
              "    <tr>\n",
              "      <th id=\"T_cd902_level0_row5\" class=\"row_heading level0 row5\" >5</th>\n",
              "      <td id=\"T_cd902_row5_col0\" class=\"data row5 col0\" >TM - ahhh! stupid prelim results! short but wanted to add puts before earnings...</td>\n",
              "      <td id=\"T_cd902_row5_col1\" class=\"data row5 col1\" >0</td>\n",
              "      <td id=\"T_cd902_row5_col2\" class=\"data row5 col2\" >0</td>\n",
              "      <td id=\"T_cd902_row5_col3\" class=\"data row5 col3\" >✔️ [True]</td>\n",
              "    </tr>\n",
              "    <tr>\n",
              "      <th id=\"T_cd902_level0_row6\" class=\"row_heading level0 row6\" >6</th>\n",
              "      <td id=\"T_cd902_row6_col0\" class=\"data row6 col0\" >SPW new HOD</td>\n",
              "      <td id=\"T_cd902_row6_col1\" class=\"data row6 col1\" >1</td>\n",
              "      <td id=\"T_cd902_row6_col2\" class=\"data row6 col2\" >1</td>\n",
              "      <td id=\"T_cd902_row6_col3\" class=\"data row6 col3\" >✔️ [True]</td>\n",
              "    </tr>\n",
              "    <tr>\n",
              "      <th id=\"T_cd902_level0_row7\" class=\"row_heading level0 row7\" >7</th>\n",
              "      <td id=\"T_cd902_row7_col0\" class=\"data row7 col0\" >Market Wrap Video + Additions to Watch ist  including: AMSC KBH MHK TW TTMI</td>\n",
              "      <td id=\"T_cd902_row7_col1\" class=\"data row7 col1\" >1</td>\n",
              "      <td id=\"T_cd902_row7_col2\" class=\"data row7 col2\" >1</td>\n",
              "      <td id=\"T_cd902_row7_col3\" class=\"data row7 col3\" >✔️ [True]</td>\n",
              "    </tr>\n",
              "    <tr>\n",
              "      <th id=\"T_cd902_level0_row8\" class=\"row_heading level0 row8\" >8</th>\n",
              "      <td id=\"T_cd902_row8_col0\" class=\"data row8 col0\" >NKD Over 179.35</td>\n",
              "      <td id=\"T_cd902_row8_col1\" class=\"data row8 col1\" >1</td>\n",
              "      <td id=\"T_cd902_row8_col2\" class=\"data row8 col2\" >1</td>\n",
              "      <td id=\"T_cd902_row8_col3\" class=\"data row8 col3\" >✔️ [True]</td>\n",
              "    </tr>\n",
              "    <tr>\n",
              "      <th id=\"T_cd902_level0_row9\" class=\"row_heading level0 row9\" >9</th>\n",
              "      <td id=\"T_cd902_row9_col0\" class=\"data row9 col0\" >EPS still think there is a better than 50% chance it tags 8, but moving stop on rest to 7.35</td>\n",
              "      <td id=\"T_cd902_row9_col1\" class=\"data row9 col1\" >1</td>\n",
              "      <td id=\"T_cd902_row9_col2\" class=\"data row9 col2\" >1</td>\n",
              "      <td id=\"T_cd902_row9_col3\" class=\"data row9 col3\" >✔️ [True]</td>\n",
              "    </tr>\n",
              "  </tbody>\n",
              "</table>\n"
            ]
          },
          "metadata": {}
        },
        {
          "output_type": "display_data",
          "data": {
            "text/plain": [
              "<IPython.core.display.HTML object>"
            ],
            "text/html": [
              "\n",
              "                <div style='\n",
              "                    text-align: center;\n",
              "                    font-size: 16px;\n",
              "                    font-weight: bold;\n",
              "                    color: #555;\n",
              "                    margin: 10px 0;'>\n",
              "                    ... 90 more rows not displayed ...\n",
              "                </div>\n",
              "                "
            ]
          },
          "metadata": {}
        },
        {
          "output_type": "execute_result",
          "data": {
            "text/plain": [
              "74.0"
            ]
          },
          "metadata": {},
          "execution_count": 46
        }
      ]
    },
    {
      "cell_type": "markdown",
      "source": [
        "We can see that this optimization helps our program achieve 30 points higher on our evaluation!"
      ],
      "metadata": {
        "id": "2k9ov1j-pMV8"
      }
    },
    {
      "cell_type": "code",
      "source": [
        "llm.inspect_history(n=1)"
      ],
      "metadata": {
        "id": "K-7qjXPKWMWF",
        "colab": {
          "base_uri": "https://localhost:8080/",
          "height": 1000
        },
        "outputId": "c2ec03ab-b939-43ff-aad6-b61217449cc5"
      },
      "execution_count": 47,
      "outputs": [
        {
          "output_type": "stream",
          "name": "stdout",
          "text": [
            "\n",
            "\n",
            "\n",
            "Rate the input as being either 1 or 0. Only return 1 or 0\n",
            "\n",
            "---\n",
            "\n",
            "Follow the following format.\n",
            "\n",
            "Sentence: ${sentence}\n",
            "Rating: key-value pairs (Respond with a single int value)\n",
            "\n",
            "---\n",
            "\n",
            "Sentence: FS daily few like the long call on this one but after chaos and mini sell we got oversold PWmo2!\n",
            "Rating: 1\n",
            "\n",
            "---\n",
            "\n",
            "Sentence: AAP Bullish signal here.  Want to see a close (preferably) above 462.60 to confirm.\n",
            "Rating: 1\n",
            "\n",
            "---\n",
            "\n",
            "Sentence: SETPS some small some big a variety to watch - TZYM .56 JAG .75 C 1.23 AV 1.29 IDIX 4.85 MCP 7.75 MO 34.37 KO 38.75 HF 36.75\n",
            "Rating: 1\n",
            "\n",
            "---\n",
            "\n",
            "Sentence: My setup alerts went bonkers today..One of many that got triggered.Cup+Handle breakout in PFE\n",
            "Rating: 1\n",
            "\n",
            "---\n",
            "\n",
            "Sentence: RBI has cut the liquidity adjustment facility by 90 bps to 4%\n",
            "Rating: 1\n",
            "\n",
            "---\n",
            "\n",
            "Sentence: user: Buffett  isn't interested in AAP at this valuation? too much profit and dead capital sitting in a bank overseas ;)\n",
            "Rating: 1\n",
            "\n",
            "---\n",
            "\n",
            "Sentence: not likin MSFT neg dvrgnce+hammer today goin into quadruple bottom. Still have some longs w/ stop\n",
            "Rating: 0\n",
            "\n",
            "---\n",
            "\n",
            "Sentence: CBMX - history repeated another HGE DAY - now look at BGMD and TEK they have same EXACT pattern - CBMX float 1mill - TEK 2.4\n",
            "Rating: 1\n",
            "\n",
            "---\n",
            "\n",
            "Sentence: owered my price target for GPN to -1\n",
            "Rating: 0\n",
            "\n",
            "---\n",
            "\n",
            "Sentence: AMZN short 268.57\n",
            "Rating: 0\n",
            "\n",
            "---\n",
            "\n",
            "Sentence: SQNM  Over 5.05\n",
            "Rating: 1\n",
            "\n",
            "---\n",
            "\n",
            "Sentence: user ProfitsBoy CST sticking2 buying over 250million in stk there unit cost is 49.90. Also cash flow 200mil. & Costs go down\n",
            "Rating: 1\n",
            "\n",
            "---\n",
            "\n",
            "Sentence: HPQ NVDA QCOM umored HP tablet could use Tegra 4 chip and Android as its OS\n",
            "Rating:\u001b[32m 0\u001b[0m\n",
            "\n",
            "\n",
            "\n"
          ]
        },
        {
          "output_type": "execute_result",
          "data": {
            "text/plain": [
              "\"\\n\\n\\nRate the input as being either 1 or 0. Only return 1 or 0\\n\\n---\\n\\nFollow the following format.\\n\\nSentence: ${sentence}\\nRating: key-value pairs (Respond with a single int value)\\n\\n---\\n\\nSentence: FS daily few like the long call on this one but after chaos and mini sell we got oversold PWmo2!\\nRating: 1\\n\\n---\\n\\nSentence: AAP Bullish signal here.  Want to see a close (preferably) above 462.60 to confirm.\\nRating: 1\\n\\n---\\n\\nSentence: SETPS some small some big a variety to watch - TZYM .56 JAG .75 C 1.23 AV 1.29 IDIX 4.85 MCP 7.75 MO 34.37 KO 38.75 HF 36.75\\nRating: 1\\n\\n---\\n\\nSentence: My setup alerts went bonkers today..One of many that got triggered.Cup+Handle breakout in PFE\\nRating: 1\\n\\n---\\n\\nSentence: RBI has cut the liquidity adjustment facility by 90 bps to 4%\\nRating: 1\\n\\n---\\n\\nSentence: user: Buffett  isn't interested in AAP at this valuation? too much profit and dead capital sitting in a bank overseas ;)\\nRating: 1\\n\\n---\\n\\nSentence: not likin MSFT neg dvrgnce+hammer today goin into quadruple bottom. Still have some longs w/ stop\\nRating: 0\\n\\n---\\n\\nSentence: CBMX - history repeated another HGE DAY - now look at BGMD and TEK they have same EXACT pattern - CBMX float 1mill - TEK 2.4\\nRating: 1\\n\\n---\\n\\nSentence: owered my price target for GPN to -1\\nRating: 0\\n\\n---\\n\\nSentence: AMZN short 268.57\\nRating: 0\\n\\n---\\n\\nSentence: SQNM  Over 5.05\\nRating: 1\\n\\n---\\n\\nSentence: user ProfitsBoy CST sticking2 buying over 250million in stk there unit cost is 49.90. Also cash flow 200mil. & Costs go down\\nRating: 1\\n\\n---\\n\\nSentence: HPQ NVDA QCOM umored HP tablet could use Tegra 4 chip and Android as its OS\\nRating:\\x1b[32m 0\\x1b[0m\\n\\n\\n\""
            ],
            "application/vnd.google.colaboratory.intrinsic+json": {
              "type": "string"
            }
          },
          "metadata": {},
          "execution_count": 47
        }
      ]
    },
    {
      "cell_type": "code",
      "source": [
        "for name, parameter in compiled_dspy_BOOTSTRAP.named_parameters():\n",
        "  print(f\"Parameter {name}: Num Examples: {len(parameter.demos)}, {parameter.demos[0]}\")\n",
        "  print()"
      ],
      "metadata": {
        "id": "XEP0Sf6CUvuo",
        "colab": {
          "base_uri": "https://localhost:8080/"
        },
        "outputId": "87311ba8-9923-4027-9e17-e09aa909b607"
      },
      "execution_count": 48,
      "outputs": [
        {
          "output_type": "stream",
          "name": "stdout",
          "text": [
            "Parameter generate_rating.predictor: Num Examples: 12, Example({'augmented': True, 'sentence': 'FS daily few like the long call on this one but after chaos and mini sell we got oversold PWmo2!', 'rating': '1'}) (input_keys=None)\n",
            "\n"
          ]
        }
      ]
    },
    {
      "cell_type": "code",
      "source": [
        "def return_rating(sentence):\n",
        "  return compiled_dspy_BOOTSTRAP(sentence=sentence).rating"
      ],
      "metadata": {
        "id": "4hxevx-HqsT_"
      },
      "execution_count": 49,
      "outputs": []
    },
    {
      "cell_type": "code",
      "source": [
        "return_rating(\"This is bad\")"
      ],
      "metadata": {
        "colab": {
          "base_uri": "https://localhost:8080/"
        },
        "id": "ugdefDIttDc8",
        "outputId": "3c29a046-6e9f-4663-8329-ef2ffa390cd1"
      },
      "execution_count": 50,
      "outputs": [
        {
          "output_type": "execute_result",
          "data": {
            "text/plain": [
              "0"
            ]
          },
          "metadata": {},
          "execution_count": 50
        }
      ]
    },
    {
      "cell_type": "markdown",
      "source": [
        "# Testing classifiers"
      ],
      "metadata": {
        "id": "DuGe45cEy8K9"
      }
    },
    {
      "cell_type": "markdown",
      "source": [
        "## Niave Bayes Classifier"
      ],
      "metadata": {
        "id": "FwCsOhwDuglI"
      }
    },
    {
      "cell_type": "code",
      "source": [
        "import pandas as pd\n",
        "import numpy as np\n",
        "from sklearn.model_selection import train_test_split\n",
        "from sklearn.feature_extraction.text import CountVectorizer\n",
        "from sklearn.naive_bayes import MultinomialNB\n",
        "from sklearn.metrics import roc_auc_score, classification_report\n",
        "\n",
        "\n",
        "# Split the data into training and testing sets\n",
        "X = dataset['Text']\n",
        "y = dataset['Sentiment']\n",
        "\n",
        "X_train, X_test, y_train, y_test = train_test_split(X, y, test_size=0.2, random_state=42)\n",
        "\n",
        "# Convert text data into numerical data using CountVectorizer\n",
        "vectorizer = CountVectorizer()\n",
        "X_train_vec = vectorizer.fit_transform(X_train)\n",
        "X_test_vec = vectorizer.transform(X_test)\n",
        "\n",
        "# Train a Naive Bayes classifier\n",
        "nb_classifier = MultinomialNB()\n",
        "nb_classifier.fit(X_train_vec, y_train)\n",
        "\n",
        "# Predict probabilities\n",
        "y_pred = nb_classifier.predict(X_test_vec)\n",
        "# Convert string labels to numerical labels using NumPy's where function\n",
        "# y_test_num = np.where(y_test == 'Positive', 1, 0)\n",
        "# y_pred_num = np.where(y_pred == 'Positive', 1, 0)\n",
        "\n",
        "# Calculate the ROC AUC metric\n",
        "roc_auc = roc_auc_score(y_test, y_pred)\n",
        "\n",
        "print(\"ROC AUC:\", roc_auc)\n",
        "print(classification_report(y_test, y_pred))\n",
        "\n"
      ],
      "metadata": {
        "colab": {
          "base_uri": "https://localhost:8080/"
        },
        "id": "UCi-fyf-tSye",
        "outputId": "bf909ab7-1b64-4139-8671-4060556fb180"
      },
      "execution_count": 52,
      "outputs": [
        {
          "output_type": "stream",
          "name": "stdout",
          "text": [
            "ROC AUC: 0.7030251240754688\n",
            "              precision    recall  f1-score   support\n",
            "\n",
            "           0       0.71      0.53      0.61       421\n",
            "           1       0.77      0.87      0.82       738\n",
            "\n",
            "    accuracy                           0.75      1159\n",
            "   macro avg       0.74      0.70      0.71      1159\n",
            "weighted avg       0.74      0.75      0.74      1159\n",
            "\n"
          ]
        }
      ]
    },
    {
      "cell_type": "markdown",
      "source": [
        "## LLM Predictor"
      ],
      "metadata": {
        "id": "9PaqGM5NvIOt"
      }
    },
    {
      "cell_type": "code",
      "source": [
        "y_pred_llm = X_test.apply(return_rating)"
      ],
      "metadata": {
        "id": "qzfMXr7jvOH8"
      },
      "execution_count": 53,
      "outputs": []
    },
    {
      "cell_type": "code",
      "source": [
        "for i in X_test[0:10].index:\n",
        "  print(f\"Sentence: {X_test[i]}\")\n",
        "  print(f\"Prediction: {y_pred_llm[i]}\")\n",
        "  print(f\"Ground Truth: {y_test[i]}\")\n",
        "  print()"
      ],
      "metadata": {
        "colab": {
          "base_uri": "https://localhost:8080/"
        },
        "id": "XR-1K8PFvfjR",
        "outputId": "0382c088-448a-46d7-ad6e-7f61a604391b"
      },
      "execution_count": 54,
      "outputs": [
        {
          "output_type": "stream",
          "name": "stdout",
          "text": [
            "Sentence: RT @DrewFitzGerald: And then there were 3: AT&amp;T, Verizon and T-Mobile https://t.co/YbaAavirhx\n",
            "Prediction: 0\n",
            "Ground Truth: 1\n",
            "\n",
            "Sentence: ed Daily Triangle on HEO,....Cover Short Position,...Net Profit  76,560.00 (7.46%)  \n",
            "Prediction: 1\n",
            "Ground Truth: 1\n",
            "\n",
            "Sentence: VFC - we are short this one again - bulls need to hold the support it is in now or the break could be significant\n",
            "Prediction: 0\n",
            "Ground Truth: 0\n",
            "\n",
            "Sentence: Heard on the Street: U.S. stock bulls should take a careful look at China, where the post-coronavirus rebound has b������� https://t.co/Ct9zPe4ZGG\n",
            "Prediction: 1\n",
            "Ground Truth: 0\n",
            "\n",
            "Sentence: on our ive Broadcast we got this long signal on PCN and covered discount buy-in ! needs push\n",
            "Prediction: 1\n",
            "Ground Truth: 1\n",
            "\n",
            "Sentence: user: AAP Broke 435 and held above 437 which should lead higher  Since the slide began, the high days have been Tue, lows Fri\n",
            "Prediction: 1\n",
            "Ground Truth: 1\n",
            "\n",
            "Sentence: CMCSA Will gap open higher; No idea where 2 enter. Would love 2 get in at 40.28 but may not get it.\n",
            "Prediction: 1\n",
            "Ground Truth: 1\n",
            "\n",
            "Sentence: BAC Yep Over the 11.90 esistance... :)   NHD\n",
            "Prediction: 1\n",
            "Ground Truth: 1\n",
            "\n",
            "Sentence: FS  Over 158.00 or 158.63\n",
            "Prediction: 1\n",
            "Ground Truth: 1\n",
            "\n",
            "Sentence: Trading environment favors long side. Don't over stay welcome. Too few quality leaders. GS AMH OCN EGN HOV AAP\n",
            "Prediction: 1\n",
            "Ground Truth: 0\n",
            "\n"
          ]
        }
      ]
    },
    {
      "cell_type": "code",
      "source": [
        "# Calculate the ROC AUC metric\n",
        "roc_auc = roc_auc_score(y_test, y_pred_llm)\n",
        "\n",
        "print(\"ROC AUC:\", roc_auc)\n",
        "\n",
        "print(classification_report(y_test, y_pred_llm))"
      ],
      "metadata": {
        "colab": {
          "base_uri": "https://localhost:8080/"
        },
        "id": "5_1IfObRvAY6",
        "outputId": "e68ecf9c-1573-4b3c-8395-32710ccf2044"
      },
      "execution_count": 55,
      "outputs": [
        {
          "output_type": "stream",
          "name": "stdout",
          "text": [
            "ROC AUC: 0.7222431428589822\n",
            "              precision    recall  f1-score   support\n",
            "\n",
            "           0       0.66      0.62      0.64       421\n",
            "           1       0.79      0.82      0.81       738\n",
            "\n",
            "    accuracy                           0.75      1159\n",
            "   macro avg       0.73      0.72      0.72      1159\n",
            "weighted avg       0.75      0.75      0.75      1159\n",
            "\n"
          ]
        }
      ]
    }
  ]
}